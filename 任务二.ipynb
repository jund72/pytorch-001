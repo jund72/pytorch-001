{
 "cells": [
  {
   "cell_type": "code",
   "execution_count": 1,
   "id": "26fddd08",
   "metadata": {},
   "outputs": [],
   "source": [
    "import torch\n",
    "import torch.nn.functional\n",
    "import torch.optim as optim"
   ]
  },
  {
   "cell_type": "code",
   "execution_count": 2,
   "id": "3fa5b255",
   "metadata": {},
   "outputs": [],
   "source": [
    "x = torch.linspace(0, 100, steps=10000)\n",
    "y = 10 * x + 4 + torch.rand(10000)"
   ]
  },
  {
   "cell_type": "code",
   "execution_count": 3,
   "id": "0744fde8",
   "metadata": {},
   "outputs": [],
   "source": [
    "class Net(torch.nn.Module):\n",
    "    def __init__(self):\n",
    "        super(Net, self).__init__()\n",
    "        self.w = torch.nn.Parameter(torch.Tensor([1.0]))\n",
    "        self.b = torch.nn.Parameter(torch.Tensor([1.0]))\n",
    "\n",
    "    def forward(self, x):\n",
    "        z = self.w * x + self.b\n",
    "        return z\n",
    "model = Net()"
   ]
  },
  {
   "cell_type": "code",
   "execution_count": 4,
   "id": "9d8cf749",
   "metadata": {
    "scrolled": true
   },
   "outputs": [],
   "source": [
    "criterion = torch.nn.MSELoss()\n",
    "optimizer = optim.SGD(model.parameters(), lr=0.00005)"
   ]
  },
  {
   "cell_type": "code",
   "execution_count": 5,
   "id": "43ea636d",
   "metadata": {},
   "outputs": [
    {
     "name": "stdout",
     "output_type": "stream",
     "text": [
      "tensor(273177.0312, grad_fn=<MseLossBackward>)\n",
      "tensor(121380.2500, grad_fn=<MseLossBackward>)\n",
      "tensor(53933.5547, grad_fn=<MseLossBackward>)\n",
      "tensor(23965.4883, grad_fn=<MseLossBackward>)\n",
      "tensor(10650.0078, grad_fn=<MseLossBackward>)\n",
      "tensor(4733.6489, grad_fn=<MseLossBackward>)\n",
      "tensor(2104.8770, grad_fn=<MseLossBackward>)\n",
      "tensor(936.8557, grad_fn=<MseLossBackward>)\n",
      "tensor(417.8786, grad_fn=<MseLossBackward>)\n",
      "tensor(187.2852, grad_fn=<MseLossBackward>)\n",
      "tensor(84.8274, grad_fn=<MseLossBackward>)\n",
      "tensor(39.3032, grad_fn=<MseLossBackward>)\n",
      "tensor(19.0759, grad_fn=<MseLossBackward>)\n",
      "tensor(10.0883, grad_fn=<MseLossBackward>)\n",
      "tensor(6.0949, grad_fn=<MseLossBackward>)\n",
      "tensor(4.3204, grad_fn=<MseLossBackward>)\n",
      "tensor(3.5318, grad_fn=<MseLossBackward>)\n",
      "tensor(3.1813, grad_fn=<MseLossBackward>)\n",
      "tensor(3.0255, grad_fn=<MseLossBackward>)\n",
      "tensor(2.9562, grad_fn=<MseLossBackward>)\n",
      "tensor(2.9254, grad_fn=<MseLossBackward>)\n",
      "tensor(2.9116, grad_fn=<MseLossBackward>)\n",
      "tensor(2.9054, grad_fn=<MseLossBackward>)\n",
      "tensor(2.9026, grad_fn=<MseLossBackward>)\n",
      "tensor(2.9012, grad_fn=<MseLossBackward>)\n",
      "tensor(2.9005, grad_fn=<MseLossBackward>)\n",
      "tensor(2.9002, grad_fn=<MseLossBackward>)\n",
      "tensor(2.8999, grad_fn=<MseLossBackward>)\n",
      "tensor(2.8997, grad_fn=<MseLossBackward>)\n",
      "tensor(2.8996, grad_fn=<MseLossBackward>)\n",
      "tensor(2.8994, grad_fn=<MseLossBackward>)\n",
      "tensor(2.8993, grad_fn=<MseLossBackward>)\n",
      "tensor(2.8991, grad_fn=<MseLossBackward>)\n",
      "tensor(2.8990, grad_fn=<MseLossBackward>)\n",
      "tensor(2.8988, grad_fn=<MseLossBackward>)\n",
      "tensor(2.8987, grad_fn=<MseLossBackward>)\n",
      "tensor(2.8986, grad_fn=<MseLossBackward>)\n",
      "tensor(2.8984, grad_fn=<MseLossBackward>)\n",
      "tensor(2.8983, grad_fn=<MseLossBackward>)\n",
      "tensor(2.8981, grad_fn=<MseLossBackward>)\n",
      "tensor(2.8980, grad_fn=<MseLossBackward>)\n",
      "tensor(2.8979, grad_fn=<MseLossBackward>)\n",
      "tensor(2.8977, grad_fn=<MseLossBackward>)\n",
      "tensor(2.8976, grad_fn=<MseLossBackward>)\n",
      "tensor(2.8974, grad_fn=<MseLossBackward>)\n",
      "tensor(2.8973, grad_fn=<MseLossBackward>)\n",
      "tensor(2.8972, grad_fn=<MseLossBackward>)\n",
      "tensor(2.8970, grad_fn=<MseLossBackward>)\n",
      "tensor(2.8969, grad_fn=<MseLossBackward>)\n",
      "tensor(2.8967, grad_fn=<MseLossBackward>)\n"
     ]
    }
   ],
   "source": [
    "for epoch in range(50):\n",
    "    optimizer.zero_grad()\n",
    "\n",
    "    z = model(x)\n",
    "    loss = criterion(z, y)\n",
    "    loss.backward()\n",
    "    optimizer.step()\n",
    "    print(loss)"
   ]
  }
 ],
 "metadata": {
  "kernelspec": {
   "display_name": "Python [conda env:pytorch]",
   "language": "python",
   "name": "conda-env-pytorch-py"
  },
  "language_info": {
   "codemirror_mode": {
    "name": "ipython",
    "version": 3
   },
   "file_extension": ".py",
   "mimetype": "text/x-python",
   "name": "python",
   "nbconvert_exporter": "python",
   "pygments_lexer": "ipython3",
   "version": "3.8.12"
  }
 },
 "nbformat": 4,
 "nbformat_minor": 5
}
