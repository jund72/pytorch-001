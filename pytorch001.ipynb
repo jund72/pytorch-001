{
 "cells": [
  {
   "cell_type": "code",
   "execution_count": 1,
   "id": "e9a9bfc1",
   "metadata": {},
   "outputs": [],
   "source": [
    "# 任务一\n",
    "import numpy as np\n",
    "import torch"
   ]
  },
  {
   "cell_type": "code",
   "execution_count": 2,
   "id": "3bfa217d",
   "metadata": {},
   "outputs": [],
   "source": [
    "c = np.ones((3,3))\n",
    "d = torch.from_numpy(c) "
   ]
  },
  {
   "cell_type": "code",
   "execution_count": null,
   "id": "5fbc769e",
   "metadata": {},
   "outputs": [],
   "source": [
    "# 任务二\n",
    "y = np.longspace()"
   ]
  }
 ],
 "metadata": {
  "kernelspec": {
   "display_name": "Python [conda env:pytorch]",
   "language": "python",
   "name": "conda-env-pytorch-py"
  },
  "language_info": {
   "codemirror_mode": {
    "name": "ipython",
    "version": 3
   },
   "file_extension": ".py",
   "mimetype": "text/x-python",
   "name": "python",
   "nbconvert_exporter": "python",
   "pygments_lexer": "ipython3",
   "version": "3.8.12"
  }
 },
 "nbformat": 4,
 "nbformat_minor": 5
}
