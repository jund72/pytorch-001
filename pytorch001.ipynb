{
 "cells": [
  {
   "cell_type": "code",
   "execution_count": 1,
   "id": "bb1eaa6e",
   "metadata": {},
   "outputs": [],
   "source": [
    "# 任务一\n",
    "import numpy as np\n",
    "import torch"
   ]
  },
  {
   "cell_type": "code",
   "execution_count": 2,
   "id": "51b20c35",
   "metadata": {},
   "outputs": [],
   "source": [
    "c = np.ones((3,3))\n",
    "d = torch.from_numpy(c) "
   ]
  }
 ],
 "metadata": {
  "kernelspec": {
   "display_name": "Python [conda env:pytorch]",
   "language": "python",
   "name": "conda-env-pytorch-py"
  },
  "language_info": {
   "codemirror_mode": {
    "name": "ipython",
    "version": 3
   },
   "file_extension": ".py",
   "mimetype": "text/x-python",
   "name": "python",
   "nbconvert_exporter": "python",
   "pygments_lexer": "ipython3",
   "version": "3.8.12"
  }
 },
 "nbformat": 4,
 "nbformat_minor": 5
}
