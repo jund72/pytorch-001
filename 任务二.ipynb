{
 "cells": [
  {
   "cell_type": "code",
   "execution_count": null,
   "id": "26fddd08",
   "metadata": {},
   "outputs": [],
   "source": [
    "import torch\n",
    "import torch.nn.functional\n",
    "import torch.optim as optim"
   ]
  },
  {
   "cell_type": "code",
   "execution_count": null,
   "id": "3fa5b255",
   "metadata": {},
   "outputs": [],
   "source": [
    "x = torch.linspace(0, 100, steps=10000)\n",
    "y = 10 * x + 4 + torch.rand(10000)"
   ]
  },
  {
   "cell_type": "code",
   "execution_count": null,
   "id": "9ec3eeef",
   "metadata": {},
   "outputs": [],
   "source": [
    "w = torch.ones(10000,10000, requires_grad = True)\n",
    "b = torch.ones(10000, requires_grad = True)"
   ]
  },
  {
   "cell_type": "code",
   "execution_count": null,
   "id": "0744fde8",
   "metadata": {},
   "outputs": [],
   "source": [
    "class Net(torch.nn.Module):\n",
    "    def __init__(self):\n",
    "        super(Net, self).__init__()\n",
    "        self.w = torch.nn.Parameter(torch.Tensor([8.0]))\n",
    "        self.b = torch.nn.Parameter(torch.Tensor([5.0]))\n",
    "\n",
    "    def forward(self, x):\n",
    "        z = self.w * x + self.b\n",
    "        return z\n",
    "model = Net()"
   ]
  },
  {
   "cell_type": "code",
   "execution_count": null,
   "id": "9d8cf749",
   "metadata": {
    "scrolled": true
   },
   "outputs": [],
   "source": [
    "criterion = torch.nn.MSELoss()\n",
    "optimizer = optim.SGD(model.parameters(), lr=0.00005)"
   ]
  },
  {
   "cell_type": "code",
   "execution_count": null,
   "id": "43ea636d",
   "metadata": {},
   "outputs": [],
   "source": [
    "for epoch in range(50):\n",
    "    optimizer.zero_grad()\n",
    "\n",
    "    z = model(x)\n",
    "    loss = criterion(z, y)\n",
    "    loss.backward()\n",
    "    optimizer.step()\n",
    "    print(loss)"
   ]
  }
 ],
 "metadata": {
  "kernelspec": {
   "display_name": "Python [conda env:pytorch]",
   "language": "python",
   "name": "conda-env-pytorch-py"
  },
  "language_info": {
   "codemirror_mode": {
    "name": "ipython",
    "version": 3
   },
   "file_extension": ".py",
   "mimetype": "text/x-python",
   "name": "python",
   "nbconvert_exporter": "python",
   "pygments_lexer": "ipython3",
   "version": "3.8.12"
  }
 },
 "nbformat": 4,
 "nbformat_minor": 5
}
