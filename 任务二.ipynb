{
 "cells": [
  {
   "cell_type": "code",
   "execution_count": 1,
   "id": "26fddd08",
   "metadata": {},
   "outputs": [],
   "source": [
    "import torch\n",
    "import torch.nn.functional\n",
    "import torch.optim as optim"
   ]
  },
  {
   "cell_type": "code",
   "execution_count": 2,
   "id": "3fa5b255",
   "metadata": {},
   "outputs": [],
   "source": [
    "x = torch.linspace(0, 100, steps=10000)\n",
    "y = 10 * x + 4 + torch.rand(10000)"
   ]
  },
  {
   "cell_type": "code",
   "execution_count": 3,
   "id": "9ec3eeef",
   "metadata": {},
   "outputs": [],
   "source": [
    "w = torch.ones(10000,10000, requires_grad = True)\n",
    "b = torch.ones(10000, requires_grad = True)"
   ]
  },
  {
   "cell_type": "code",
   "execution_count": 4,
   "id": "0744fde8",
   "metadata": {},
   "outputs": [],
   "source": [
    "class Net(torch.nn.Module):\n",
    "    def __init__(self):\n",
    "        super(Net, self).__init__()\n",
    "        self.w = torch.nn.Parameter(torch.Tensor([8.0]))\n",
    "        self.b = torch.nn.Parameter(torch.Tensor([5.0]))\n",
    "\n",
    "    def forward(self, x):\n",
    "        z = self.w * x + self.b\n",
    "        return z\n",
    "model = Net()"
   ]
  },
  {
   "cell_type": "code",
   "execution_count": 5,
   "id": "9d8cf749",
   "metadata": {
    "scrolled": true
   },
   "outputs": [],
   "source": [
    "criterion = torch.nn.MSELoss()\n",
    "optimizer = optim.SGD(model.parameters(), lr=0.00005)"
   ]
  },
  {
   "cell_type": "code",
   "execution_count": 6,
   "id": "bb78b94f",
   "metadata": {},
   "outputs": [
    {
     "name": "stdout",
     "output_type": "stream",
     "text": [
      "tensor(13234.0537, grad_fn=<MseLossBackward>)\n",
      "tensor(5880.2690, grad_fn=<MseLossBackward>)\n",
      "tensor(2612.8169, grad_fn=<MseLossBackward>)\n",
      "tensor(1161.0199, grad_fn=<MseLossBackward>)\n",
      "tensor(515.9522, grad_fn=<MseLossBackward>)\n",
      "tensor(229.3353, grad_fn=<MseLossBackward>)\n",
      "tensor(101.9845, grad_fn=<MseLossBackward>)\n",
      "tensor(45.3999, grad_fn=<MseLossBackward>)\n",
      "tensor(20.2579, grad_fn=<MseLossBackward>)\n",
      "tensor(9.0871, grad_fn=<MseLossBackward>)\n",
      "tensor(4.1237, grad_fn=<MseLossBackward>)\n",
      "tensor(1.9183, grad_fn=<MseLossBackward>)\n",
      "tensor(0.9385, grad_fn=<MseLossBackward>)\n",
      "tensor(0.5031, grad_fn=<MseLossBackward>)\n",
      "tensor(0.3096, grad_fn=<MseLossBackward>)\n",
      "tensor(0.2237, grad_fn=<MseLossBackward>)\n",
      "tensor(0.1855, grad_fn=<MseLossBackward>)\n",
      "tensor(0.1685, grad_fn=<MseLossBackward>)\n",
      "tensor(0.1610, grad_fn=<MseLossBackward>)\n",
      "tensor(0.1576, grad_fn=<MseLossBackward>)\n",
      "tensor(0.1561, grad_fn=<MseLossBackward>)\n",
      "tensor(0.1555, grad_fn=<MseLossBackward>)\n",
      "tensor(0.1552, grad_fn=<MseLossBackward>)\n",
      "tensor(0.1550, grad_fn=<MseLossBackward>)\n",
      "tensor(0.1550, grad_fn=<MseLossBackward>)\n",
      "tensor(0.1549, grad_fn=<MseLossBackward>)\n",
      "tensor(0.1549, grad_fn=<MseLossBackward>)\n",
      "tensor(0.1549, grad_fn=<MseLossBackward>)\n",
      "tensor(0.1549, grad_fn=<MseLossBackward>)\n",
      "tensor(0.1549, grad_fn=<MseLossBackward>)\n",
      "tensor(0.1549, grad_fn=<MseLossBackward>)\n",
      "tensor(0.1549, grad_fn=<MseLossBackward>)\n",
      "tensor(0.1549, grad_fn=<MseLossBackward>)\n",
      "tensor(0.1549, grad_fn=<MseLossBackward>)\n",
      "tensor(0.1549, grad_fn=<MseLossBackward>)\n",
      "tensor(0.1549, grad_fn=<MseLossBackward>)\n",
      "tensor(0.1549, grad_fn=<MseLossBackward>)\n",
      "tensor(0.1549, grad_fn=<MseLossBackward>)\n",
      "tensor(0.1549, grad_fn=<MseLossBackward>)\n",
      "tensor(0.1549, grad_fn=<MseLossBackward>)\n",
      "tensor(0.1549, grad_fn=<MseLossBackward>)\n",
      "tensor(0.1549, grad_fn=<MseLossBackward>)\n",
      "tensor(0.1549, grad_fn=<MseLossBackward>)\n",
      "tensor(0.1549, grad_fn=<MseLossBackward>)\n",
      "tensor(0.1549, grad_fn=<MseLossBackward>)\n",
      "tensor(0.1549, grad_fn=<MseLossBackward>)\n",
      "tensor(0.1548, grad_fn=<MseLossBackward>)\n",
      "tensor(0.1548, grad_fn=<MseLossBackward>)\n",
      "tensor(0.1548, grad_fn=<MseLossBackward>)\n",
      "tensor(0.1548, grad_fn=<MseLossBackward>)\n"
     ]
    }
   ],
   "source": [
    "for epoch in range(50):\n",
    "    optimizer.zero_grad()\n",
    "\n",
    "    z = model(x)\n",
    "    loss = criterion(z, y)\n",
    "    loss.backward()\n",
    "    optimizer.step()\n",
    "    print(loss)"
   ]
  }
 ],
 "metadata": {
  "kernelspec": {
   "display_name": "Python [conda env:pytorch]",
   "language": "python",
   "name": "conda-env-pytorch-py"
  },
  "language_info": {
   "codemirror_mode": {
    "name": "ipython",
    "version": 3
   },
   "file_extension": ".py",
   "mimetype": "text/x-python",
   "name": "python",
   "nbconvert_exporter": "python",
   "pygments_lexer": "ipython3",
   "version": "3.8.12"
  }
 },
 "nbformat": 4,
 "nbformat_minor": 5
}
