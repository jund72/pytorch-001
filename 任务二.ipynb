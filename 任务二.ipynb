{
 "cells": [
  {
   "cell_type": "code",
   "execution_count": 1,
   "id": "26fddd08",
   "metadata": {},
   "outputs": [],
   "source": [
    "import torch\n",
    "import numpy as np\n",
    "import torch.optim as optim"
   ]
  },
  {
   "cell_type": "code",
   "execution_count": 2,
   "id": "3fa5b255",
   "metadata": {},
   "outputs": [],
   "source": [
    "x = torch.linspace(0, 100, steps=10000)\n",
    "y = 10 * x + 4 + torch.rand(10000)"
   ]
  },
  {
   "cell_type": "code",
   "execution_count": 3,
   "id": "9ec3eeef",
   "metadata": {},
   "outputs": [],
   "source": [
    "w = torch.ones(10000,10000, requires_grad = True)\n",
    "b = torch.ones(10000, requires_grad = True)\n",
    "z = torch.matmul(x, w)+b"
   ]
  },
  {
   "cell_type": "code",
   "execution_count": 4,
   "id": "1b739077",
   "metadata": {},
   "outputs": [],
   "source": [
    "loss = torch.nn.functional.binary_cross_entropy_with_logits(z, y)\n",
    "loss.backward()"
   ]
  },
  {
   "cell_type": "code",
   "execution_count": 5,
   "id": "79dd8996",
   "metadata": {},
   "outputs": [
    {
     "data": {
      "text/plain": [
       "tensor([[-0.0000e+00, -0.0000e+00, -0.0000e+00,  ..., -0.0000e+00,\n",
       "         -0.0000e+00, -0.0000e+00],\n",
       "        [-3.3326e-06, -3.3509e-06, -3.8936e-06,  ..., -1.0038e-03,\n",
       "         -1.0034e-03, -1.0035e-03],\n",
       "        [-6.6651e-06, -6.7018e-06, -7.7871e-06,  ..., -2.0076e-03,\n",
       "         -2.0068e-03, -2.0070e-03],\n",
       "        ...,\n",
       "        [-3.3316e-02, -3.3499e-02, -3.8924e-02,  ..., -1.0035e+01,\n",
       "         -1.0031e+01, -1.0032e+01],\n",
       "        [-3.3319e-02, -3.3502e-02, -3.8928e-02,  ..., -1.0036e+01,\n",
       "         -1.0032e+01, -1.0033e+01],\n",
       "        [-3.3322e-02, -3.3506e-02, -3.8932e-02,  ..., -1.0037e+01,\n",
       "         -1.0033e+01, -1.0034e+01]])"
      ]
     },
     "execution_count": 5,
     "metadata": {},
     "output_type": "execute_result"
    }
   ],
   "source": [
    "w.grad"
   ]
  },
  {
   "cell_type": "code",
   "execution_count": 6,
   "id": "26111234",
   "metadata": {},
   "outputs": [
    {
     "data": {
      "text/plain": [
       "tensor([-0.0003, -0.0003, -0.0004,  ..., -0.1004, -0.1003, -0.1003])"
      ]
     },
     "execution_count": 6,
     "metadata": {},
     "output_type": "execute_result"
    }
   ],
   "source": [
    "b.grad"
   ]
  },
  {
   "cell_type": "code",
   "execution_count": null,
   "id": "f0905ffb",
   "metadata": {},
   "outputs": [],
   "source": []
  }
 ],
 "metadata": {
  "kernelspec": {
   "display_name": "Python [conda env:pytorch]",
   "language": "python",
   "name": "conda-env-pytorch-py"
  },
  "language_info": {
   "codemirror_mode": {
    "name": "ipython",
    "version": 3
   },
   "file_extension": ".py",
   "mimetype": "text/x-python",
   "name": "python",
   "nbconvert_exporter": "python",
   "pygments_lexer": "ipython3",
   "version": "3.8.12"
  }
 },
 "nbformat": 4,
 "nbformat_minor": 5
}
